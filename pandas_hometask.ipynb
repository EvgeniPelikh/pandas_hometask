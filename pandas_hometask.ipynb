{
 "cells": [
  {
   "cell_type": "code",
   "execution_count": null,
   "id": "59eeaa7c",
   "metadata": {},
   "outputs": [],
   "source": [
    "import pandas as pd"
   ]
  },
  {
   "cell_type": "code",
   "execution_count": null,
   "id": "4e86dded",
   "metadata": {},
   "outputs": [],
   "source": [
    "data = pd.read_csv('ratings.csv')\n",
    "data.loc[data['rating'] == 5.0].groupby('movieId').count().sort_values('rating', ascending = False).head()"
   ]
  },
  {
   "cell_type": "code",
   "execution_count": null,
   "id": "2cc539ef",
   "metadata": {
    "scrolled": true
   },
   "outputs": [],
   "source": [
    "data_power = pd.read_csv('power.csv')\n",
    "\n",
    "# countries names - Lithuania, Latvia, Estonia\n",
    "\n",
    "filtered_countries = data_power[(data_power['country'] == 'Lithuania') | \n",
    "                                (data_power['country'] == 'Latvia') |\n",
    "                                (data_power['country'] == 'Estonia')] \n",
    "\n",
    "filtered_category = filtered_countries[(filtered_countries['category'] == 4) | \n",
    "                                       (filtered_countries['category'] == 12) | \n",
    "                                       (filtered_countries['category'] == 21)]\n",
    "\n",
    "filtered_year = filtered_category[filtered_category['year'].between(2005, 2010)]\n",
    "filtered = filtered_year[filtered_year['quantity'] > 0]\n",
    "\n",
    "result = sum(filtered['quantity'])\n",
    "result"
   ]
  },
  {
   "cell_type": "code",
   "execution_count": null,
   "id": "6581f731",
   "metadata": {},
   "outputs": [],
   "source": [
    "population = pd.read_html('https://www.macrotrends.net/countries/ranking/population')\n",
    "population = population[0]\n",
    "population"
   ]
  }
 ],
 "metadata": {
  "kernelspec": {
   "display_name": "Python 3 (ipykernel)",
   "language": "python",
   "name": "python3"
  },
  "language_info": {
   "codemirror_mode": {
    "name": "ipython",
    "version": 3
   },
   "file_extension": ".py",
   "mimetype": "text/x-python",
   "name": "python",
   "nbconvert_exporter": "python",
   "pygments_lexer": "ipython3",
   "version": "3.10.9"
  }
 },
 "nbformat": 4,
 "nbformat_minor": 5
}
